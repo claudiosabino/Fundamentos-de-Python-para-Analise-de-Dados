{
  "nbformat": 4,
  "nbformat_minor": 0,
  "metadata": {
    "colab": {
      "provenance": [],
      "authorship_tag": "ABX9TyOIB/oq9JQGiBs+rbqOas7B",
      "include_colab_link": true
    },
    "kernelspec": {
      "name": "python3",
      "display_name": "Python 3"
    },
    "language_info": {
      "name": "python"
    }
  },
  "cells": [
    {
      "cell_type": "markdown",
      "metadata": {
        "id": "view-in-github",
        "colab_type": "text"
      },
      "source": [
        "<a href=\"https://colab.research.google.com/github/claudiosabino/Fundamentos-de-Python-para-Analise-de-Dados/blob/main/cap2_parte1_numeros.ipynb\" target=\"_parent\"><img src=\"https://colab.research.google.com/assets/colab-badge.svg\" alt=\"Open In Colab\"/></a>"
      ]
    },
    {
      "cell_type": "code",
      "execution_count": 1,
      "metadata": {
        "colab": {
          "base_uri": "https://localhost:8080/"
        },
        "id": "u1G_QTnY33It",
        "outputId": "a94132e9-3d96-42b4-962e-5792644ad5e5"
      },
      "outputs": [
        {
          "output_type": "stream",
          "name": "stdout",
          "text": [
            "Versão da Linguagem Python usada neste Jupyter Notebook:  3.7.15\n"
          ]
        }
      ],
      "source": [
        "# Versão da Linguagem Python\n",
        "from platform import python_version\n",
        "print(\"Versão da Linguagem Python usada neste Jupyter Notebook: \", python_version())"
      ]
    },
    {
      "cell_type": "markdown",
      "source": [
        "# **Números e Operações Matemáticas**"
      ],
      "metadata": {
        "id": "WXcIVzgu8XWh"
      }
    },
    {
      "cell_type": "markdown",
      "source": [
        "**Pressione as teclas \"shift\" e \"enter\" para executar o código em uma célula ou pressione o botão \"Play\".**"
      ],
      "metadata": {
        "id": "jDrHg1138sAG"
      }
    },
    {
      "cell_type": "code",
      "source": [
        "# Soma\n",
        "4 + 4"
      ],
      "metadata": {
        "colab": {
          "base_uri": "https://localhost:8080/"
        },
        "id": "MwXatIxo8kz-",
        "outputId": "f2942ef8-687b-47ed-d580-e5338f188850"
      },
      "execution_count": 2,
      "outputs": [
        {
          "output_type": "execute_result",
          "data": {
            "text/plain": [
              "8"
            ]
          },
          "metadata": {},
          "execution_count": 2
        }
      ]
    },
    {
      "cell_type": "code",
      "source": [
        "# Subtração\n",
        "4 - 3"
      ],
      "metadata": {
        "colab": {
          "base_uri": "https://localhost:8080/"
        },
        "id": "c3jAChzs9QRG",
        "outputId": "0b32da2f-89ce-4628-dfc4-e358e369b6e7"
      },
      "execution_count": 3,
      "outputs": [
        {
          "output_type": "execute_result",
          "data": {
            "text/plain": [
              "1"
            ]
          },
          "metadata": {},
          "execution_count": 3
        }
      ]
    },
    {
      "cell_type": "code",
      "source": [
        "# Multiplicação\n",
        "3 * 3"
      ],
      "metadata": {
        "colab": {
          "base_uri": "https://localhost:8080/"
        },
        "id": "kPHjxUwj9pNW",
        "outputId": "d285b961-90d9-4869-957b-eec120359bf7"
      },
      "execution_count": 5,
      "outputs": [
        {
          "output_type": "execute_result",
          "data": {
            "text/plain": [
              "9"
            ]
          },
          "metadata": {},
          "execution_count": 5
        }
      ]
    },
    {
      "cell_type": "code",
      "source": [
        "# Divisão\n",
        "3 / 2"
      ],
      "metadata": {
        "colab": {
          "base_uri": "https://localhost:8080/"
        },
        "id": "nLfmI8lx9t4S",
        "outputId": "c98a1b04-1e51-4a98-d311-900dd9c577d7"
      },
      "execution_count": 6,
      "outputs": [
        {
          "output_type": "execute_result",
          "data": {
            "text/plain": [
              "1.5"
            ]
          },
          "metadata": {},
          "execution_count": 6
        }
      ]
    },
    {
      "cell_type": "code",
      "source": [
        "# Divisão com 2 barras (O retorno é o QUOCIENTE da Divisão)\n",
        "10 // 3"
      ],
      "metadata": {
        "colab": {
          "base_uri": "https://localhost:8080/"
        },
        "id": "fLgvoOtqAGJ4",
        "outputId": "abb9c5a5-d6b7-4e00-8c60-02afe7cc7ff2"
      },
      "execution_count": 13,
      "outputs": [
        {
          "output_type": "execute_result",
          "data": {
            "text/plain": [
              "3"
            ]
          },
          "metadata": {},
          "execution_count": 13
        }
      ]
    },
    {
      "cell_type": "code",
      "source": [
        "# Módulo (O retorno é o RESTO da Divisão)\n",
        "10 % 3"
      ],
      "metadata": {
        "colab": {
          "base_uri": "https://localhost:8080/"
        },
        "id": "no8d5ybt-Cq3",
        "outputId": "780fc15b-4a08-4623-9b96-29c4e74901df"
      },
      "execution_count": 11,
      "outputs": [
        {
          "output_type": "execute_result",
          "data": {
            "text/plain": [
              "1"
            ]
          },
          "metadata": {},
          "execution_count": 11
        }
      ]
    },
    {
      "cell_type": "code",
      "source": [
        "# Potência\n",
        "4 ** 2"
      ],
      "metadata": {
        "colab": {
          "base_uri": "https://localhost:8080/"
        },
        "id": "YMfPF5Om97II",
        "outputId": "27e43408-8cab-488f-d1fa-86ebef5adc07"
      },
      "execution_count": 10,
      "outputs": [
        {
          "output_type": "execute_result",
          "data": {
            "text/plain": [
              "16"
            ]
          },
          "metadata": {},
          "execution_count": 10
        }
      ]
    },
    {
      "cell_type": "markdown",
      "source": [
        "**Função Type - Indica o tipo de variável**"
      ],
      "metadata": {
        "id": "oliaTaUgAyG8"
      }
    },
    {
      "cell_type": "code",
      "source": [
        "# \"int\" são variáveis do tipo inteiro\n",
        "type(5)"
      ],
      "metadata": {
        "colab": {
          "base_uri": "https://localhost:8080/"
        },
        "id": "QTaS7bY0C80H",
        "outputId": "58a328ef-2fec-4aee-e3e3-61e8e91f5027"
      },
      "execution_count": 14,
      "outputs": [
        {
          "output_type": "execute_result",
          "data": {
            "text/plain": [
              "int"
            ]
          },
          "metadata": {},
          "execution_count": 14
        }
      ]
    },
    {
      "cell_type": "code",
      "source": [
        "# \"float\" são variáveis do tipo de decimal\n",
        "type(5.0)"
      ],
      "metadata": {
        "colab": {
          "base_uri": "https://localhost:8080/"
        },
        "id": "-TR3Aho9DRR3",
        "outputId": "9876531e-d460-4f6f-b6d7-de7335531e51"
      },
      "execution_count": 15,
      "outputs": [
        {
          "output_type": "execute_result",
          "data": {
            "text/plain": [
              "float"
            ]
          },
          "metadata": {},
          "execution_count": 15
        }
      ]
    },
    {
      "cell_type": "code",
      "source": [
        "# \"str\" variáveis do tipo string (texto)\n",
        "a = \"Eu sou uma string\"\n",
        "type(a)"
      ],
      "metadata": {
        "colab": {
          "base_uri": "https://localhost:8080/"
        },
        "id": "sZJG4JB-Ddpw",
        "outputId": "974027b7-2ab7-4c3d-8a3a-32f1bd8f95bd"
      },
      "execution_count": 16,
      "outputs": [
        {
          "output_type": "execute_result",
          "data": {
            "text/plain": [
              "str"
            ]
          },
          "metadata": {},
          "execution_count": 16
        }
      ]
    },
    {
      "cell_type": "markdown",
      "source": [
        "**Operações com Números \"float\"**"
      ],
      "metadata": {
        "id": "PASBC2yWErLI"
      }
    },
    {
      "cell_type": "code",
      "source": [
        "3.1 + 6.4"
      ],
      "metadata": {
        "colab": {
          "base_uri": "https://localhost:8080/"
        },
        "id": "wCp_vuA_E3-w",
        "outputId": "0a7ed645-bfd7-4938-97ca-96f1ccc570eb"
      },
      "execution_count": 18,
      "outputs": [
        {
          "output_type": "execute_result",
          "data": {
            "text/plain": [
              "9.5"
            ]
          },
          "metadata": {},
          "execution_count": 18
        }
      ]
    },
    {
      "cell_type": "code",
      "source": [
        "4 + 4.0 # Prevalece o tipo de variável mais abrangente."
      ],
      "metadata": {
        "colab": {
          "base_uri": "https://localhost:8080/"
        },
        "id": "JZzO9YT-E9yo",
        "outputId": "a88f3908-de21-476a-f138-85531d116b23"
      },
      "execution_count": 20,
      "outputs": [
        {
          "output_type": "execute_result",
          "data": {
            "text/plain": [
              "8.0"
            ]
          },
          "metadata": {},
          "execution_count": 20
        }
      ]
    },
    {
      "cell_type": "code",
      "source": [
        "4 + 4 # Ambos são do mesmo tipo de variável."
      ],
      "metadata": {
        "colab": {
          "base_uri": "https://localhost:8080/"
        },
        "id": "1UgepJ-pFe8o",
        "outputId": "1c795254-2927-45eb-f10b-34a1f2f474f0"
      },
      "execution_count": 21,
      "outputs": [
        {
          "output_type": "execute_result",
          "data": {
            "text/plain": [
              "8"
            ]
          },
          "metadata": {},
          "execution_count": 21
        }
      ]
    },
    {
      "cell_type": "code",
      "source": [
        "5 / 2"
      ],
      "metadata": {
        "colab": {
          "base_uri": "https://localhost:8080/"
        },
        "id": "mSp8fjqOHN4y",
        "outputId": "846a0783-c8ca-4c04-f138-9880aca4a5ea"
      },
      "execution_count": 23,
      "outputs": [
        {
          "output_type": "execute_result",
          "data": {
            "text/plain": [
              "2.5"
            ]
          },
          "metadata": {},
          "execution_count": 23
        }
      ]
    },
    {
      "cell_type": "code",
      "source": [
        "4 / 2 # O Resultado é do tipo \"float\" pelo fato de ser uma divisão completa. Independente do resultado, este estará inserido no tipo \"float\". "
      ],
      "metadata": {
        "colab": {
          "base_uri": "https://localhost:8080/"
        },
        "id": "Lc9wjxTTGALC",
        "outputId": "f5610611-991e-437e-cb9c-d0c2edb46b5c"
      },
      "execution_count": 22,
      "outputs": [
        {
          "output_type": "execute_result",
          "data": {
            "text/plain": [
              "2.0"
            ]
          },
          "metadata": {},
          "execution_count": 22
        }
      ]
    },
    {
      "cell_type": "code",
      "source": [
        "# O Resultado da variável sempre será \"int\" pelo fato de que o Quociente neste tipo de Divisão é um inteiro.\n",
        "5 // 3"
      ],
      "metadata": {
        "colab": {
          "base_uri": "https://localhost:8080/"
        },
        "id": "Rhn7EVBlINz7",
        "outputId": "1a1e9b11-7e2e-4111-b5c9-d5234ab6f01b"
      },
      "execution_count": 25,
      "outputs": [
        {
          "output_type": "execute_result",
          "data": {
            "text/plain": [
              "1.0"
            ]
          },
          "metadata": {},
          "execution_count": 25
        }
      ]
    },
    {
      "cell_type": "code",
      "source": [
        "5 // 3.0 # Neste caso, independente da operação, prevaleceu o tipo de variável mais abrangente."
      ],
      "metadata": {
        "colab": {
          "base_uri": "https://localhost:8080/"
        },
        "id": "_eqhdgQgJpwD",
        "outputId": "8ca8d64f-1043-475c-c49b-f269f9904e24"
      },
      "execution_count": 26,
      "outputs": [
        {
          "output_type": "execute_result",
          "data": {
            "text/plain": [
              "1.0"
            ]
          },
          "metadata": {},
          "execution_count": 26
        }
      ]
    },
    {
      "cell_type": "code",
      "source": [],
      "metadata": {
        "id": "XF8_OEi8JFXj"
      },
      "execution_count": null,
      "outputs": []
    },
    {
      "cell_type": "markdown",
      "source": [
        "**Conversão**"
      ],
      "metadata": {
        "id": "ra-AsUz9KNna"
      }
    },
    {
      "cell_type": "code",
      "source": [
        "float (9) # Converterá a variável do tipo \"int\" para \"float\"."
      ],
      "metadata": {
        "colab": {
          "base_uri": "https://localhost:8080/"
        },
        "id": "q656bt0nKSna",
        "outputId": "56822cc5-d743-40a3-92be-388e882155e3"
      },
      "execution_count": 27,
      "outputs": [
        {
          "output_type": "execute_result",
          "data": {
            "text/plain": [
              "9.0"
            ]
          },
          "metadata": {},
          "execution_count": 27
        }
      ]
    },
    {
      "cell_type": "code",
      "source": [
        "int(6.0) # Não é arredondamento, este função terá como retorno apenas a parte inteira."
      ],
      "metadata": {
        "colab": {
          "base_uri": "https://localhost:8080/"
        },
        "id": "4ijUW470K5L8",
        "outputId": "89a7c0b5-26ff-4efb-9b4a-e6f635772be8"
      },
      "execution_count": 28,
      "outputs": [
        {
          "output_type": "execute_result",
          "data": {
            "text/plain": [
              "6"
            ]
          },
          "metadata": {},
          "execution_count": 28
        }
      ]
    },
    {
      "cell_type": "code",
      "source": [
        "int(6.5) #Retorna apenas a parte inteira da variável. "
      ],
      "metadata": {
        "colab": {
          "base_uri": "https://localhost:8080/"
        },
        "id": "VvIEGXlTLV68",
        "outputId": "3022e998-c0c6-4c5d-8f7d-b56d2c8d8c63"
      },
      "execution_count": 29,
      "outputs": [
        {
          "output_type": "execute_result",
          "data": {
            "text/plain": [
              "6"
            ]
          },
          "metadata": {},
          "execution_count": 29
        }
      ]
    },
    {
      "cell_type": "code",
      "source": [
        "int(6.7) #Retorna apenas a parte inteira da variável. "
      ],
      "metadata": {
        "colab": {
          "base_uri": "https://localhost:8080/"
        },
        "id": "F6cJlPbnLmWr",
        "outputId": "1566eb79-cc6f-459b-8a7b-4848522562d1"
      },
      "execution_count": 30,
      "outputs": [
        {
          "output_type": "execute_result",
          "data": {
            "text/plain": [
              "6"
            ]
          },
          "metadata": {},
          "execution_count": 30
        }
      ]
    },
    {
      "cell_type": "markdown",
      "source": [
        "**Hexadecimal e Binário**"
      ],
      "metadata": {
        "id": "hFKMz4goLyxv"
      }
    },
    {
      "cell_type": "code",
      "source": [
        "hex(394)"
      ],
      "metadata": {
        "colab": {
          "base_uri": "https://localhost:8080/",
          "height": 35
        },
        "id": "lLmZunMCLxjD",
        "outputId": "3395bb69-1abb-4d39-a620-ffc80a57190d"
      },
      "execution_count": 31,
      "outputs": [
        {
          "output_type": "execute_result",
          "data": {
            "text/plain": [
              "'0x18a'"
            ],
            "application/vnd.google.colaboratory.intrinsic+json": {
              "type": "string"
            }
          },
          "metadata": {},
          "execution_count": 31
        }
      ]
    },
    {
      "cell_type": "code",
      "source": [
        "hex(217)"
      ],
      "metadata": {
        "colab": {
          "base_uri": "https://localhost:8080/",
          "height": 35
        },
        "id": "3__bXrd0Mlwy",
        "outputId": "1d24177a-fc71-4f94-b379-9078fa1c0065"
      },
      "execution_count": 32,
      "outputs": [
        {
          "output_type": "execute_result",
          "data": {
            "text/plain": [
              "'0xd9'"
            ],
            "application/vnd.google.colaboratory.intrinsic+json": {
              "type": "string"
            }
          },
          "metadata": {},
          "execution_count": 32
        }
      ]
    },
    {
      "cell_type": "code",
      "source": [
        "bin(286)"
      ],
      "metadata": {
        "colab": {
          "base_uri": "https://localhost:8080/",
          "height": 35
        },
        "id": "1BJnugP5MpV7",
        "outputId": "8e10ce23-452c-43a8-e05c-021fb8720425"
      },
      "execution_count": 33,
      "outputs": [
        {
          "output_type": "execute_result",
          "data": {
            "text/plain": [
              "'0b100011110'"
            ],
            "application/vnd.google.colaboratory.intrinsic+json": {
              "type": "string"
            }
          },
          "metadata": {},
          "execution_count": 33
        }
      ]
    },
    {
      "cell_type": "code",
      "source": [
        "bin(390)"
      ],
      "metadata": {
        "colab": {
          "base_uri": "https://localhost:8080/",
          "height": 35
        },
        "id": "s3gnnYUiMs26",
        "outputId": "90018cac-1dee-4f49-83dd-34d3927a8f8f"
      },
      "execution_count": 34,
      "outputs": [
        {
          "output_type": "execute_result",
          "data": {
            "text/plain": [
              "'0b110000110'"
            ],
            "application/vnd.google.colaboratory.intrinsic+json": {
              "type": "string"
            }
          },
          "metadata": {},
          "execution_count": 34
        }
      ]
    },
    {
      "cell_type": "markdown",
      "source": [
        "**Funções \"abs\", \"round\" e \"pow\"**"
      ],
      "metadata": {
        "id": "lQ4fGNq4Myt5"
      }
    },
    {
      "cell_type": "code",
      "source": [
        "# Retorna o valor ABSOLUTO\n",
        "abs(-8)"
      ],
      "metadata": {
        "colab": {
          "base_uri": "https://localhost:8080/"
        },
        "id": "Xd0uMMrlM_EU",
        "outputId": "dd483865-9cb5-4313-e59a-f1da513520b7"
      },
      "execution_count": 35,
      "outputs": [
        {
          "output_type": "execute_result",
          "data": {
            "text/plain": [
              "8"
            ]
          },
          "metadata": {},
          "execution_count": 35
        }
      ]
    },
    {
      "cell_type": "code",
      "source": [
        "# Retorna o valor ABSOLUTO\n",
        "abs(8)"
      ],
      "metadata": {
        "colab": {
          "base_uri": "https://localhost:8080/"
        },
        "id": "fxy6ppRONK5U",
        "outputId": "672c15e6-b299-46f4-8a1e-ba5d085abe1a"
      },
      "execution_count": 36,
      "outputs": [
        {
          "output_type": "execute_result",
          "data": {
            "text/plain": [
              "8"
            ]
          },
          "metadata": {},
          "execution_count": 36
        }
      ]
    },
    {
      "cell_type": "code",
      "source": [
        "# Retorna o Valor com ARREDONDAMENTO de acordo com o número de casas decimais solicitadas\n",
        "round(3.14151922,2)"
      ],
      "metadata": {
        "colab": {
          "base_uri": "https://localhost:8080/"
        },
        "id": "9_-HssyCNM-z",
        "outputId": "ee26c9d9-d54a-49e8-df0d-c7743a6417aa"
      },
      "execution_count": 37,
      "outputs": [
        {
          "output_type": "execute_result",
          "data": {
            "text/plain": [
              "3.14"
            ]
          },
          "metadata": {},
          "execution_count": 37
        }
      ]
    },
    {
      "cell_type": "code",
      "source": [
        "# Retorna o Valor com ARREDONDAMENTO de acordo com o número de casas decimais solicitadas\n",
        "round(3.14151922,4)"
      ],
      "metadata": {
        "colab": {
          "base_uri": "https://localhost:8080/"
        },
        "id": "zDjuIYMENp0s",
        "outputId": "40cb7a19-fbd8-416e-824d-3739593e2800"
      },
      "execution_count": 38,
      "outputs": [
        {
          "output_type": "execute_result",
          "data": {
            "text/plain": [
              "3.1415"
            ]
          },
          "metadata": {},
          "execution_count": 38
        }
      ]
    },
    {
      "cell_type": "code",
      "source": [
        "# POTêNCIA\n",
        "pow(4,2)"
      ],
      "metadata": {
        "colab": {
          "base_uri": "https://localhost:8080/"
        },
        "id": "jOGfMy77Nura",
        "outputId": "62ca1171-82a3-4787-9c50-26a632dd8cd8"
      },
      "execution_count": 39,
      "outputs": [
        {
          "output_type": "execute_result",
          "data": {
            "text/plain": [
              "16"
            ]
          },
          "metadata": {},
          "execution_count": 39
        }
      ]
    },
    {
      "cell_type": "code",
      "source": [
        "# POTêNCIA\n",
        "pow(5,3)"
      ],
      "metadata": {
        "colab": {
          "base_uri": "https://localhost:8080/"
        },
        "id": "_RTz5asyN4kJ",
        "outputId": "a518d32b-da63-4113-cd71-62e673c30585"
      },
      "execution_count": 40,
      "outputs": [
        {
          "output_type": "execute_result",
          "data": {
            "text/plain": [
              "125"
            ]
          },
          "metadata": {},
          "execution_count": 40
        }
      ]
    },
    {
      "cell_type": "markdown",
      "source": [
        "**Fim**"
      ],
      "metadata": {
        "id": "YCtiyVV4OAEB"
      }
    }
  ]
}